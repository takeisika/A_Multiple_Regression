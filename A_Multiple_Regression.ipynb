{
  "nbformat": 4,
  "nbformat_minor": 0,
  "metadata": {
    "colab": {
      "provenance": []
    },
    "kernelspec": {
      "name": "python3",
      "display_name": "Python 3"
    },
    "language_info": {
      "name": "python"
    }
  },
  "cells": [
    {
      "cell_type": "code",
      "execution_count": null,
      "metadata": {
        "colab": {
          "base_uri": "https://localhost:8080/",
          "height": 206
        },
        "id": "BlAnQe9yZVGV",
        "outputId": "b8e23309-2944-4d8f-d48d-414e75a5e11e"
      },
      "outputs": [
        {
          "output_type": "execute_result",
          "data": {
            "text/plain": [
              "   R&D Spend  Administration  Marketing Spend       State     Profit\n",
              "0  165349.20       136897.80        471784.10    New York  192261.83\n",
              "1  162597.70       151377.59        443898.53  California  191792.06\n",
              "2  153441.51       101145.55        407934.54     Florida  191050.39\n",
              "3  144372.41       118671.85        383199.62    New York  182901.99\n",
              "4  142107.34        91391.77        366168.42     Florida  166187.94"
            ],
            "text/html": [
              "\n",
              "  <div id=\"df-cd437351-3599-4fe8-b4fe-a8b11ea0be2d\">\n",
              "    <div class=\"colab-df-container\">\n",
              "      <div>\n",
              "<style scoped>\n",
              "    .dataframe tbody tr th:only-of-type {\n",
              "        vertical-align: middle;\n",
              "    }\n",
              "\n",
              "    .dataframe tbody tr th {\n",
              "        vertical-align: top;\n",
              "    }\n",
              "\n",
              "    .dataframe thead th {\n",
              "        text-align: right;\n",
              "    }\n",
              "</style>\n",
              "<table border=\"1\" class=\"dataframe\">\n",
              "  <thead>\n",
              "    <tr style=\"text-align: right;\">\n",
              "      <th></th>\n",
              "      <th>R&amp;D Spend</th>\n",
              "      <th>Administration</th>\n",
              "      <th>Marketing Spend</th>\n",
              "      <th>State</th>\n",
              "      <th>Profit</th>\n",
              "    </tr>\n",
              "  </thead>\n",
              "  <tbody>\n",
              "    <tr>\n",
              "      <th>0</th>\n",
              "      <td>165349.20</td>\n",
              "      <td>136897.80</td>\n",
              "      <td>471784.10</td>\n",
              "      <td>New York</td>\n",
              "      <td>192261.83</td>\n",
              "    </tr>\n",
              "    <tr>\n",
              "      <th>1</th>\n",
              "      <td>162597.70</td>\n",
              "      <td>151377.59</td>\n",
              "      <td>443898.53</td>\n",
              "      <td>California</td>\n",
              "      <td>191792.06</td>\n",
              "    </tr>\n",
              "    <tr>\n",
              "      <th>2</th>\n",
              "      <td>153441.51</td>\n",
              "      <td>101145.55</td>\n",
              "      <td>407934.54</td>\n",
              "      <td>Florida</td>\n",
              "      <td>191050.39</td>\n",
              "    </tr>\n",
              "    <tr>\n",
              "      <th>3</th>\n",
              "      <td>144372.41</td>\n",
              "      <td>118671.85</td>\n",
              "      <td>383199.62</td>\n",
              "      <td>New York</td>\n",
              "      <td>182901.99</td>\n",
              "    </tr>\n",
              "    <tr>\n",
              "      <th>4</th>\n",
              "      <td>142107.34</td>\n",
              "      <td>91391.77</td>\n",
              "      <td>366168.42</td>\n",
              "      <td>Florida</td>\n",
              "      <td>166187.94</td>\n",
              "    </tr>\n",
              "  </tbody>\n",
              "</table>\n",
              "</div>\n",
              "      <button class=\"colab-df-convert\" onclick=\"convertToInteractive('df-cd437351-3599-4fe8-b4fe-a8b11ea0be2d')\"\n",
              "              title=\"Convert this dataframe to an interactive table.\"\n",
              "              style=\"display:none;\">\n",
              "        \n",
              "  <svg xmlns=\"http://www.w3.org/2000/svg\" height=\"24px\"viewBox=\"0 0 24 24\"\n",
              "       width=\"24px\">\n",
              "    <path d=\"M0 0h24v24H0V0z\" fill=\"none\"/>\n",
              "    <path d=\"M18.56 5.44l.94 2.06.94-2.06 2.06-.94-2.06-.94-.94-2.06-.94 2.06-2.06.94zm-11 1L8.5 8.5l.94-2.06 2.06-.94-2.06-.94L8.5 2.5l-.94 2.06-2.06.94zm10 10l.94 2.06.94-2.06 2.06-.94-2.06-.94-.94-2.06-.94 2.06-2.06.94z\"/><path d=\"M17.41 7.96l-1.37-1.37c-.4-.4-.92-.59-1.43-.59-.52 0-1.04.2-1.43.59L10.3 9.45l-7.72 7.72c-.78.78-.78 2.05 0 2.83L4 21.41c.39.39.9.59 1.41.59.51 0 1.02-.2 1.41-.59l7.78-7.78 2.81-2.81c.8-.78.8-2.07 0-2.86zM5.41 20L4 18.59l7.72-7.72 1.47 1.35L5.41 20z\"/>\n",
              "  </svg>\n",
              "      </button>\n",
              "      \n",
              "  <style>\n",
              "    .colab-df-container {\n",
              "      display:flex;\n",
              "      flex-wrap:wrap;\n",
              "      gap: 12px;\n",
              "    }\n",
              "\n",
              "    .colab-df-convert {\n",
              "      background-color: #E8F0FE;\n",
              "      border: none;\n",
              "      border-radius: 50%;\n",
              "      cursor: pointer;\n",
              "      display: none;\n",
              "      fill: #1967D2;\n",
              "      height: 32px;\n",
              "      padding: 0 0 0 0;\n",
              "      width: 32px;\n",
              "    }\n",
              "\n",
              "    .colab-df-convert:hover {\n",
              "      background-color: #E2EBFA;\n",
              "      box-shadow: 0px 1px 2px rgba(60, 64, 67, 0.3), 0px 1px 3px 1px rgba(60, 64, 67, 0.15);\n",
              "      fill: #174EA6;\n",
              "    }\n",
              "\n",
              "    [theme=dark] .colab-df-convert {\n",
              "      background-color: #3B4455;\n",
              "      fill: #D2E3FC;\n",
              "    }\n",
              "\n",
              "    [theme=dark] .colab-df-convert:hover {\n",
              "      background-color: #434B5C;\n",
              "      box-shadow: 0px 1px 3px 1px rgba(0, 0, 0, 0.15);\n",
              "      filter: drop-shadow(0px 1px 2px rgba(0, 0, 0, 0.3));\n",
              "      fill: #FFFFFF;\n",
              "    }\n",
              "  </style>\n",
              "\n",
              "      <script>\n",
              "        const buttonEl =\n",
              "          document.querySelector('#df-cd437351-3599-4fe8-b4fe-a8b11ea0be2d button.colab-df-convert');\n",
              "        buttonEl.style.display =\n",
              "          google.colab.kernel.accessAllowed ? 'block' : 'none';\n",
              "\n",
              "        async function convertToInteractive(key) {\n",
              "          const element = document.querySelector('#df-cd437351-3599-4fe8-b4fe-a8b11ea0be2d');\n",
              "          const dataTable =\n",
              "            await google.colab.kernel.invokeFunction('convertToInteractive',\n",
              "                                                     [key], {});\n",
              "          if (!dataTable) return;\n",
              "\n",
              "          const docLinkHtml = 'Like what you see? Visit the ' +\n",
              "            '<a target=\"_blank\" href=https://colab.research.google.com/notebooks/data_table.ipynb>data table notebook</a>'\n",
              "            + ' to learn more about interactive tables.';\n",
              "          element.innerHTML = '';\n",
              "          dataTable['output_type'] = 'display_data';\n",
              "          await google.colab.output.renderOutput(dataTable, element);\n",
              "          const docLink = document.createElement('div');\n",
              "          docLink.innerHTML = docLinkHtml;\n",
              "          element.appendChild(docLink);\n",
              "        }\n",
              "      </script>\n",
              "    </div>\n",
              "  </div>\n",
              "  "
            ]
          },
          "metadata": {},
          "execution_count": 55
        }
      ],
      "source": [
        "#前提:profitをdependent variable、残りをindependent variableとしたa multiple regression (R&D, Adm, etc)\n",
        "\n",
        "import numpy as np\n",
        "import pandas as pd\n",
        "\n",
        "#Reading data\n",
        "data = pd.read_csv('1000_Companies.csv')\n",
        "data.head()"
      ]
    },
    {
      "cell_type": "code",
      "source": [
        "#Stateがnumberじゃないからnumberにする\n",
        "data = pd.get_dummies(data)\n",
        "print (data.head())\n",
        "\n",
        "\n",
        "\n",
        "# Drops the 'Profit' column from the features\n",
        "# dropでは、original dataはmodifyしてないから下記でyをprofit出来る\n",
        "X = data.drop(columns=['Profit'])\n",
        "\n",
        "# Selects the 'Profit' column as the target variable\n",
        "y = data.iloc[:, 3]\n"
      ],
      "metadata": {
        "colab": {
          "base_uri": "https://localhost:8080/"
        },
        "id": "B6awQpUyfJtO",
        "outputId": "5e1577aa-6ae7-4f0f-f9b0-0a436c441f48"
      },
      "execution_count": null,
      "outputs": [
        {
          "output_type": "stream",
          "name": "stdout",
          "text": [
            "   R&D Spend  Administration  Marketing Spend     Profit  State_California  \\\n",
            "0  165349.20       136897.80        471784.10  192261.83                 0   \n",
            "1  162597.70       151377.59        443898.53  191792.06                 1   \n",
            "2  153441.51       101145.55        407934.54  191050.39                 0   \n",
            "3  144372.41       118671.85        383199.62  182901.99                 0   \n",
            "4  142107.34        91391.77        366168.42  166187.94                 0   \n",
            "\n",
            "   State_Florida  State_New York  \n",
            "0              0               1  \n",
            "1              0               0  \n",
            "2              1               0  \n",
            "3              0               1  \n",
            "4              1               0  \n"
          ]
        }
      ]
    },
    {
      "cell_type": "code",
      "source": [
        "from sklearn.model_selection import train_test_split\n",
        "X_train, X_test, y_train, y_test = train_test_split(X, y, test_size = 0.2, random_state = 0)"
      ],
      "metadata": {
        "id": "6MgBSIHgeD4P"
      },
      "execution_count": null,
      "outputs": []
    },
    {
      "cell_type": "code",
      "source": [
        "from sklearn.linear_model import LinearRegression\n",
        "regressor = LinearRegression()\n",
        "regressor.fit(X_train, y_train)"
      ],
      "metadata": {
        "colab": {
          "base_uri": "https://localhost:8080/",
          "height": 75
        },
        "id": "-Vkuh27hfETb",
        "outputId": "095ae62e-7b76-4209-a8c2-90ca1c63e210"
      },
      "execution_count": null,
      "outputs": [
        {
          "output_type": "execute_result",
          "data": {
            "text/plain": [
              "LinearRegression()"
            ],
            "text/html": [
              "<style>#sk-container-id-2 {color: black;background-color: white;}#sk-container-id-2 pre{padding: 0;}#sk-container-id-2 div.sk-toggleable {background-color: white;}#sk-container-id-2 label.sk-toggleable__label {cursor: pointer;display: block;width: 100%;margin-bottom: 0;padding: 0.3em;box-sizing: border-box;text-align: center;}#sk-container-id-2 label.sk-toggleable__label-arrow:before {content: \"▸\";float: left;margin-right: 0.25em;color: #696969;}#sk-container-id-2 label.sk-toggleable__label-arrow:hover:before {color: black;}#sk-container-id-2 div.sk-estimator:hover label.sk-toggleable__label-arrow:before {color: black;}#sk-container-id-2 div.sk-toggleable__content {max-height: 0;max-width: 0;overflow: hidden;text-align: left;background-color: #f0f8ff;}#sk-container-id-2 div.sk-toggleable__content pre {margin: 0.2em;color: black;border-radius: 0.25em;background-color: #f0f8ff;}#sk-container-id-2 input.sk-toggleable__control:checked~div.sk-toggleable__content {max-height: 200px;max-width: 100%;overflow: auto;}#sk-container-id-2 input.sk-toggleable__control:checked~label.sk-toggleable__label-arrow:before {content: \"▾\";}#sk-container-id-2 div.sk-estimator input.sk-toggleable__control:checked~label.sk-toggleable__label {background-color: #d4ebff;}#sk-container-id-2 div.sk-label input.sk-toggleable__control:checked~label.sk-toggleable__label {background-color: #d4ebff;}#sk-container-id-2 input.sk-hidden--visually {border: 0;clip: rect(1px 1px 1px 1px);clip: rect(1px, 1px, 1px, 1px);height: 1px;margin: -1px;overflow: hidden;padding: 0;position: absolute;width: 1px;}#sk-container-id-2 div.sk-estimator {font-family: monospace;background-color: #f0f8ff;border: 1px dotted black;border-radius: 0.25em;box-sizing: border-box;margin-bottom: 0.5em;}#sk-container-id-2 div.sk-estimator:hover {background-color: #d4ebff;}#sk-container-id-2 div.sk-parallel-item::after {content: \"\";width: 100%;border-bottom: 1px solid gray;flex-grow: 1;}#sk-container-id-2 div.sk-label:hover label.sk-toggleable__label {background-color: #d4ebff;}#sk-container-id-2 div.sk-serial::before {content: \"\";position: absolute;border-left: 1px solid gray;box-sizing: border-box;top: 0;bottom: 0;left: 50%;z-index: 0;}#sk-container-id-2 div.sk-serial {display: flex;flex-direction: column;align-items: center;background-color: white;padding-right: 0.2em;padding-left: 0.2em;position: relative;}#sk-container-id-2 div.sk-item {position: relative;z-index: 1;}#sk-container-id-2 div.sk-parallel {display: flex;align-items: stretch;justify-content: center;background-color: white;position: relative;}#sk-container-id-2 div.sk-item::before, #sk-container-id-2 div.sk-parallel-item::before {content: \"\";position: absolute;border-left: 1px solid gray;box-sizing: border-box;top: 0;bottom: 0;left: 50%;z-index: -1;}#sk-container-id-2 div.sk-parallel-item {display: flex;flex-direction: column;z-index: 1;position: relative;background-color: white;}#sk-container-id-2 div.sk-parallel-item:first-child::after {align-self: flex-end;width: 50%;}#sk-container-id-2 div.sk-parallel-item:last-child::after {align-self: flex-start;width: 50%;}#sk-container-id-2 div.sk-parallel-item:only-child::after {width: 0;}#sk-container-id-2 div.sk-dashed-wrapped {border: 1px dashed gray;margin: 0 0.4em 0.5em 0.4em;box-sizing: border-box;padding-bottom: 0.4em;background-color: white;}#sk-container-id-2 div.sk-label label {font-family: monospace;font-weight: bold;display: inline-block;line-height: 1.2em;}#sk-container-id-2 div.sk-label-container {text-align: center;}#sk-container-id-2 div.sk-container {/* jupyter's `normalize.less` sets `[hidden] { display: none; }` but bootstrap.min.css set `[hidden] { display: none !important; }` so we also need the `!important` here to be able to override the default hidden behavior on the sphinx rendered scikit-learn.org. See: https://github.com/scikit-learn/scikit-learn/issues/21755 */display: inline-block !important;position: relative;}#sk-container-id-2 div.sk-text-repr-fallback {display: none;}</style><div id=\"sk-container-id-2\" class=\"sk-top-container\"><div class=\"sk-text-repr-fallback\"><pre>LinearRegression()</pre><b>In a Jupyter environment, please rerun this cell to show the HTML representation or trust the notebook. <br />On GitHub, the HTML representation is unable to render, please try loading this page with nbviewer.org.</b></div><div class=\"sk-container\" hidden><div class=\"sk-item\"><div class=\"sk-estimator sk-toggleable\"><input class=\"sk-toggleable__control sk-hidden--visually\" id=\"sk-estimator-id-2\" type=\"checkbox\" checked><label for=\"sk-estimator-id-2\" class=\"sk-toggleable__label sk-toggleable__label-arrow\">LinearRegression</label><div class=\"sk-toggleable__content\"><pre>LinearRegression()</pre></div></div></div></div></div>"
            ]
          },
          "metadata": {},
          "execution_count": 60
        }
      ]
    },
    {
      "cell_type": "code",
      "source": [
        "y_pred = regressor.predict(X_test)\n",
        "print (y_pred)\n",
        "y_test.head()"
      ],
      "metadata": {
        "colab": {
          "base_uri": "https://localhost:8080/"
        },
        "id": "uWdHWh_ciSRC",
        "outputId": "0e48f3b0-84ee-447b-e0ef-51e5db624b7b"
      },
      "execution_count": null,
      "outputs": [
        {
          "output_type": "stream",
          "name": "stdout",
          "text": [
            "[ 89790.61532916  88427.07187361  94894.67836972 175680.8672561\n",
            "  83411.73042089 110571.90200074 132145.2293644   91473.37719687\n",
            " 164597.05380606  53222.82667401  66950.1905099  150566.43987004\n",
            " 126915.20858596  59337.85971051 177513.91053061  75316.28143051\n",
            " 118248.14406603 164574.40699901 170937.28981069 182069.11645084\n",
            " 118845.03252689  85669.95112229 180992.59396143  84145.08220145\n",
            " 105005.83769214 101233.56772747  53831.07669092  56881.41475225\n",
            "  68896.39346905 210040.00765883 120778.72270894 111724.87157654\n",
            " 101487.90541518 137959.02649623  63969.95996744 108857.91214126\n",
            " 186014.72531987 171442.64130747 174644.26529204 117671.49128195\n",
            "  96731.37857434 165452.25779409 107724.34331255  50194.54176914\n",
            " 116513.89532178  58632.48986821 158416.46827609  78541.4852161\n",
            " 159727.66671743 131137.87699644 184880.70924515 174609.08266879\n",
            "  93745.66352059  78341.13383418 180745.90439079  84461.61490552\n",
            " 142900.90602902 170618.44098396  84365.09530839 105307.3716218\n",
            " 141660.07290786  52527.34340443 141842.9626416  139176.27973195\n",
            "  98294.52669666 113586.86790969 126754.21895489 152135.51985561\n",
            "  58864.51658956 174285.57361129 124624.04380784 169065.77658978\n",
            "  91279.33198209 156170.37268962  84307.26579366  77877.75223097\n",
            " 120414.02421346  93380.44273242 139020.62514121 143604.67103572\n",
            " 171148.30815367 140082.97050131 106369.71689747 155641.43851387\n",
            " 140030.10330037 110172.87893525  69672.98677565  88148.52068042\n",
            " 140133.59925093 148479.09537887 157916.63505257  58532.94863142\n",
            "  93707.3842239  112646.37475705  56556.18943661 107414.89996181\n",
            " 147352.80227752 152144.10104034 167808.11701783 118750.25230713\n",
            " 120763.27666701 139029.95295662 157527.90934119 121962.0621496\n",
            "  87091.32399737 104792.91384333  95335.22679185 178389.52287436\n",
            " 181942.63776381 109831.34945507 165254.03344096 167806.06491902\n",
            " 158002.44642543 174782.86900956 170196.77102698  52302.18161612\n",
            " 176938.11595789 104751.83583865  82710.31528806 138890.52767844\n",
            " 144274.74675425 161679.0183644  169662.05445894 120450.9231013\n",
            " 158880.70799546 110213.73252824 169674.51532366  60760.61300842\n",
            " 159036.99629068 158169.44286047 174511.70494475 156294.79927783\n",
            " 103714.37583212  85635.96237574 141603.54878757 165917.69156979\n",
            " 121182.03641977 170751.87883893 100505.77549411  82097.51033128\n",
            " 178643.18879842 101790.48384579  70507.40958622  90250.04230089\n",
            "  61247.4996268   68912.17534521  72775.81613476 176914.08873124\n",
            "  89704.69244931 129209.43730016  92672.90938383  88133.59175044\n",
            " 172836.33021618  60893.62070015 169015.8944601  166450.24453204\n",
            " 165425.54476415 102170.5169499  181594.57928216  73702.57942562\n",
            "  91267.42979669 135791.54160195  64922.80257301  71775.70235726\n",
            "  60603.91401516 184288.61041915 176286.69585944 158907.75687038\n",
            " 141359.32216438 154611.17928321  58549.58863234  90618.58407899\n",
            " 152885.51163925 168398.05223804  72485.3627454  116064.24350667\n",
            "  80087.80697208 149828.90896188 116806.95957371 130191.48845161\n",
            " 174534.42670328 293584.45948282 146270.83174788 150646.69178014\n",
            "  86107.47782247  69967.20842246  70096.78368773  69033.69170769\n",
            " 120666.75708064  89677.68014064 166824.27091662 125514.76626409\n",
            "  67209.67687467 140930.69427702 118544.30490695 165897.61905906\n",
            " 168655.48652551 147009.66805048 141396.22104146 109086.50634849]\n"
          ]
        },
        {
          "output_type": "execute_result",
          "data": {
            "text/plain": [
              "993     89012.02672\n",
              "859     87654.55773\n",
              "298     94093.35179\n",
              "553    175396.26160\n",
              "672     83356.61784\n",
              "Name: Profit, dtype: float64"
            ]
          },
          "metadata": {},
          "execution_count": 61
        }
      ]
    },
    {
      "cell_type": "code",
      "source": [
        "#今回のa multiple regressionにおいて何が起きているかを確認\n",
        "#a multiple regressionだから公式的には以下で表される\n",
        "#y(dependent) = b0 (y切片) + b1・x1 (x1はindependent) + b2・x2 (x2はindependent) + b3・x3 (x3はindependent)\n",
        "#だからinterceptはb0というひとつの値、coefficientはbnというcolumn毎の値を出す\n",
        "#interceptがひとつしかないのにcoefficientが複数なのは、a multiple regressionは平面だから\n",
        "\n",
        "#Calculating the Coefficients それぞれcolumnに対応するslopeだから複数 (順番はcolumn順)\n",
        "print(regressor.coef_)\n",
        "\n",
        "#Calculating the Intercept\n",
        "print(regressor.intercept_)\n",
        "\n",
        "#Calculating the R^2 (real profitとpredict profitとの差のR^2)(each columnにおけるR^2のaverageとかじゃない、今回はa multiple regressionだから複雑だから)\n",
        "from sklearn.metrics import r2_score\n",
        "r2_score(y_test, y_pred) #これはなかなか信憑性あるprediction"
      ],
      "metadata": {
        "colab": {
          "base_uri": "https://localhost:8080/"
        },
        "id": "7WVav5gPjunD",
        "outputId": "4e290c5e-f90e-43da-e4d3-526510d0a24b"
      },
      "execution_count": null,
      "outputs": [
        {
          "output_type": "stream",
          "name": "stdout",
          "text": [
            "[ 5.25845857e-01  8.44390881e-01  1.07574255e-01  5.26235224e+02\n",
            " -3.54301375e+02 -1.71933849e+02]\n",
            "-51561.464947771135\n"
          ]
        },
        {
          "output_type": "execute_result",
          "data": {
            "text/plain": [
              "0.9112695892268795"
            ]
          },
          "metadata": {},
          "execution_count": 64
        }
      ]
    },
    {
      "cell_type": "code",
      "source": [
        "#おまけ\n",
        "#[:,:-1]\n",
        "#X = data.iloc[:,:-1]\n",
        "#ちなみにXに関して、iloc[:,:-1]の:-1はlast column以外を抽出だから、[:,:4]の代わりにそれでも良い"
      ],
      "metadata": {
        "id": "Vey5p1escpQY"
      },
      "execution_count": null,
      "outputs": []
    },
    {
      "cell_type": "code",
      "source": [
        "#おまけ\n",
        "#Data Visualization\n",
        "#Building the Correlation Matrix\n",
        "import seaborn as sns\n",
        "sns.heatmap(data.corr())"
      ],
      "metadata": {
        "colab": {
          "base_uri": "https://localhost:8080/",
          "height": 557
        },
        "id": "SFxMpX6ydcKW",
        "outputId": "e1013bef-ebee-4e7d-955a-1569496c557e"
      },
      "execution_count": null,
      "outputs": [
        {
          "output_type": "execute_result",
          "data": {
            "text/plain": [
              "<Axes: >"
            ]
          },
          "metadata": {},
          "execution_count": 66
        },
        {
          "output_type": "display_data",
          "data": {
            "text/plain": [
              "<Figure size 640x480 with 2 Axes>"
            ],
            "image/png": "[encoded data removed]"
          },
          "metadata": {}
        }
      ]
    }
  ]
}